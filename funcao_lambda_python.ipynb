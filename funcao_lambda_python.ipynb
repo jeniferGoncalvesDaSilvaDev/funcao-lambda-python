{
  "nbformat": 4,
  "nbformat_minor": 0,
  "metadata": {
    "colab": {
      "provenance": [],
      "authorship_tag": "ABX9TyOzT5/ACXHt8iEDUZ4D04uz",
      "include_colab_link": true
    },
    "kernelspec": {
      "name": "python3",
      "display_name": "Python 3"
    },
    "language_info": {
      "name": "python"
    }
  },
  "cells": [
    {
      "cell_type": "markdown",
      "metadata": {
        "id": "view-in-github",
        "colab_type": "text"
      },
      "source": [
        "<a href=\"https://colab.research.google.com/github/jeniferGoncalvesDaSilvaDev/funcao-lambda-python/blob/main/funcao_lambda_python.ipynb\" target=\"_parent\"><img src=\"https://colab.research.google.com/assets/colab-badge.svg\" alt=\"Open In Colab\"/></a>"
      ]
    },
    {
      "cell_type": "code",
      "execution_count": 6,
      "metadata": {
        "colab": {
          "base_uri": "https://localhost:8080/"
        },
        "id": "ivZ6utj2Hzwd",
        "outputId": "c472cbd1-6d51-4939-d0ef-7de7d3ea0cd0"
      },
      "outputs": [
        {
          "name": "stdout",
          "output_type": "stream",
          "text": [
            "insira o preço: 12306.00\n"
          ]
        },
        {
          "output_type": "execute_result",
          "data": {
            "text/plain": [
              "3691.7999999999997"
            ]
          },
          "metadata": {},
          "execution_count": 6
        }
      ],
      "source": [
        "#funçao anomina, vc nao precisa nomear mas pode usar\n",
        "#cobrar 30% de um preço\n",
        "#com funçao normal\n",
        "def cobrar_imposto(preco):\n",
        "  return preco*0.3\n",
        "preco=float(input('insira o preço: '))\n",
        "cobrar_imposto(preco)"
      ]
    },
    {
      "cell_type": "code",
      "source": [
        "#lambda serve para retorno de valores unicos\n",
        "#antes do 2 pontos da chave lamda, coloca o parametro e depois do 2 pontos, coloca o que quer retornar\n",
        "calcular_imposto = lambda preco: preco *0.3\n",
        "#chama a funçao lambda com o parametro\n",
        "print(calcular_imposto(preco))\n"
      ],
      "metadata": {
        "colab": {
          "base_uri": "https://localhost:8080/"
        },
        "id": "L06ES-AUJqF0",
        "outputId": "39fa6189-b649-4ff6-ccac-042f05dd54e7"
      },
      "execution_count": 7,
      "outputs": [
        {
          "output_type": "stream",
          "name": "stdout",
          "text": [
            "3691.7999999999997\n"
          ]
        }
      ]
    },
    {
      "cell_type": "code",
      "source": [
        "#lista de preços e de produtos\n",
        "#imposo de cada um dos preços\n",
        "precos1=[100,500,10,25]\n",
        "#callback map\n",
        "imposto = list(map(lambda x : x*0.3,precos1))\n",
        "print(imposto)"
      ],
      "metadata": {
        "colab": {
          "base_uri": "https://localhost:8080/"
        },
        "id": "sAhrU-PILqKn",
        "outputId": "3079d067-e16e-4675-f6fe-fd34d8b4e777"
      },
      "execution_count": 9,
      "outputs": [
        {
          "output_type": "stream",
          "name": "stdout",
          "text": [
            "[30.0, 150.0, 3.0, 7.5]\n"
          ]
        }
      ]
    },
    {
      "cell_type": "code",
      "source": [
        "#pratica com listas(map) e lambda\n",
        "precos=[]\n",
        "for i in range(0,4):\n",
        "  preco=float(input('insira o preço: '))\n",
        "  precos.append(preco)\n",
        "print(precos)\n",
        "#para retornar uma lista usa-se a funçao list()\n",
        "imposto2=list(map(lambda preco: preco*0.3, precos))\n",
        "print(imposto2)"
      ],
      "metadata": {
        "colab": {
          "base_uri": "https://localhost:8080/"
        },
        "id": "zBO_7205MWNg",
        "outputId": "47f5cb78-45af-42bc-c3ec-883a789cfcfc"
      },
      "execution_count": 15,
      "outputs": [
        {
          "output_type": "stream",
          "name": "stdout",
          "text": [
            "insira o preço: 5456.00\n",
            "insira o preço: 1123.12\n",
            "insira o preço: 5896.45\n",
            "insira o preço: 4789.23\n",
            "[5456.0, 1123.12, 5896.45, 4789.23]\n",
            "[1636.8, 336.936, 1768.935, 1436.7689999999998]\n"
          ]
        }
      ]
    },
    {
      "cell_type": "code",
      "source": [
        "#pratica2\n",
        "#numero par ou impar\n",
        "n= int(input('insira um numero: '))\n",
        "verificar_numero= lambda n: n%2==0\n",
        "print(verificar_numero(n))"
      ],
      "metadata": {
        "colab": {
          "base_uri": "https://localhost:8080/"
        },
        "id": "dC5LT1MTOQmA",
        "outputId": "1ad3375e-32fa-4e03-c4f4-a273b074ee76"
      },
      "execution_count": 17,
      "outputs": [
        {
          "output_type": "stream",
          "name": "stdout",
          "text": [
            "insira um numero: 5\n",
            "False\n"
          ]
        }
      ]
    },
    {
      "cell_type": "code",
      "source": [
        "n2=[]\n",
        "for i in range(0,6):\n",
        "  n= int(input('insira um numero: '))\n",
        "  n2.append(n)\n",
        "print(n2)\n",
        "verificar_numero2= list(map(lambda n:n%2==0, n2))\n",
        "print(verificar_numero2)"
      ],
      "metadata": {
        "colab": {
          "base_uri": "https://localhost:8080/"
        },
        "id": "03rHA6mUOvqY",
        "outputId": "27a8e3a0-deb3-4dd4-ff93-c4fecdd0ff8f"
      },
      "execution_count": 19,
      "outputs": [
        {
          "output_type": "stream",
          "name": "stdout",
          "text": [
            "insira um numero: 56\n",
            "insira um numero: 6\n",
            "insira um numero: 45\n",
            "insira um numero: 17\n",
            "insira um numero: 12\n",
            "insira um numero: 35\n",
            "[56, 6, 45, 17, 12, 35]\n",
            "[True, True, False, False, True, False]\n"
          ]
        }
      ]
    },
    {
      "cell_type": "code",
      "source": [
        "num1=int(input('insira um numero: '))\n",
        "num2=int(input('insira um numero: '))\n",
        "multiplicar= lambda num1,num2: num1*num2\n",
        "print(multiplicar(num1,num2))"
      ],
      "metadata": {
        "colab": {
          "base_uri": "https://localhost:8080/"
        },
        "id": "pr7iXo8aPYqY",
        "outputId": "5cc62548-8d12-4b5e-c060-ed412b62afe4"
      },
      "execution_count": 20,
      "outputs": [
        {
          "output_type": "stream",
          "name": "stdout",
          "text": [
            "insira um numero: 25\n",
            "insira um numero: 25\n",
            "625\n"
          ]
        }
      ]
    },
    {
      "cell_type": "code",
      "source": [
        "#ultima pratica\n",
        "marmitas=[]\n",
        "for i in  range(0,6):\n",
        "  dado=int(input('insira o numero de marmitas vendidas no mes: '))\n",
        "  marmitas.append(dado)\n",
        "print(marmitas)\n",
        "#fazendo o somatorio\n",
        "somatorio = sum(marmitas)\n",
        "numero_dias=len(marmitas)\n",
        "print(somatorio)\n",
        "calcular_media_mensal = list(map(lambda dado: somatorio/ numero_dias, marmitas))\n",
        "print(calcular_media_mensal)"
      ],
      "metadata": {
        "colab": {
          "base_uri": "https://localhost:8080/"
        },
        "id": "LjXEQe5XP3x3",
        "outputId": "eed81b62-55cd-480e-9462-2bcd18f92aa7"
      },
      "execution_count": 28,
      "outputs": [
        {
          "output_type": "stream",
          "name": "stdout",
          "text": [
            "insira o numero de marmitas vendidas no mes: 1203\n",
            "insira o numero de marmitas vendidas no mes: 3600\n",
            "insira o numero de marmitas vendidas no mes: 3690\n",
            "insira o numero de marmitas vendidas no mes: 2000\n",
            "insira o numero de marmitas vendidas no mes: 3000\n",
            "insira o numero de marmitas vendidas no mes: 4000\n",
            "[1203, 3600, 3690, 2000, 3000, 4000]\n",
            "17493\n",
            "[2915.5, 2915.5, 2915.5, 2915.5, 2915.5, 2915.5]\n"
          ]
        }
      ]
    }
  ]
}